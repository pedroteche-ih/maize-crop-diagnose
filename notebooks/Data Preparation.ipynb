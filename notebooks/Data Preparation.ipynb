{
 "cells": [
  {
   "cell_type": "code",
   "execution_count": 1,
   "metadata": {},
   "outputs": [],
   "source": [
    "import zipfile\n",
    "import os\n",
    "from PIL import Image"
   ]
  },
  {
   "attachments": {},
   "cell_type": "markdown",
   "metadata": {},
   "source": [
    "Change de data folder here:"
   ]
  },
  {
   "cell_type": "code",
   "execution_count": 8,
   "metadata": {},
   "outputs": [],
   "source": [
    "data_dir = \"/Volumes/DOCK-HD/Data/maize-crop-diagnose/\"\n",
    "os.chdir(data_dir)"
   ]
  },
  {
   "attachments": {},
   "cell_type": "markdown",
   "metadata": {},
   "source": [
    "# Extracting images from zip files"
   ]
  },
  {
   "cell_type": "code",
   "execution_count": 5,
   "metadata": {},
   "outputs": [],
   "source": [
    "zip_dict = {\n",
    "    \"HEATHLY.zip\" : \"healthy\",\n",
    "    \"MLN.zip\" : \"mln\",\n",
    "    \"MSV_1.zip\" : \"msv\",\n",
    "    \"MSV_2.zip\" : \"msv\",\n",
    "}"
   ]
  },
  {
   "cell_type": "code",
   "execution_count": 6,
   "metadata": {},
   "outputs": [],
   "source": [
    "for zip_path, folder_name in zip_dict.items():\n",
    "    with zipfile.ZipFile(zip_path, 'r') as zip_ref:\n",
    "        zip_ref.extractall(folder_name)"
   ]
  },
  {
   "attachments": {},
   "cell_type": "markdown",
   "metadata": {},
   "source": [
    "# Checking image files for corrupted jpegs"
   ]
  },
  {
   "cell_type": "code",
   "execution_count": 9,
   "metadata": {},
   "outputs": [
    {
     "name": "stdout",
     "output_type": "stream",
     "text": [
      "File removed: .DS_Store\n",
      "File removed: MSV_1.zip\n",
      "File removed: HEATHLY.zip\n",
      "File removed: MSV_2.zip\n",
      "File removed: MLN.zip\n",
      "File removed: .DS_Store\n",
      "File removed: .DS_Store\n",
      "Image removed: image file is truncated (66 bytes not processed)\n",
      "File removed: .DS_Store\n",
      "File removed: .DS_Store\n",
      "File removed: via_project_9Jun2021_10h37m_coco.json\n",
      "File removed: via_project_9Jun2021_0h6m_coco.json\n",
      "File removed: .DS_Store\n",
      "File removed: via_project_29Sep2021_0h34m_coco.json\n",
      "File removed: .DS_Store\n",
      "File removed: via_project_11May2021_13h36m_coco (1).json\n",
      "File removed: .DS_Store\n",
      "File removed: via_project_3Jun2021_11h14m_coco.json\n",
      "File removed: ._.DS_Store\n",
      "File removed: ._via_project_29Sep2021_0h34m_coco.json\n"
     ]
    }
   ],
   "source": [
    "for subdir, dirs, files in os.walk(data_dir):\n",
    "    for file in files:\n",
    "        if file.endswith(\".jpg\"):\n",
    "            try:\n",
    "                a = Image.open(os.path.join(subdir, file)).load()\n",
    "            except Exception as e:\n",
    "                print(f\"Image removed: {e}\")\n",
    "                os.remove(os.path.join(subdir, file))\n",
    "        else:\n",
    "            print(f\"File removed: {file}\")\n",
    "            os.remove(os.path.join(subdir, file))"
   ]
  },
  {
   "cell_type": "code",
   "execution_count": null,
   "metadata": {},
   "outputs": [],
   "source": []
  }
 ],
 "metadata": {
  "kernelspec": {
   "display_name": "optuna",
   "language": "python",
   "name": "python3"
  },
  "language_info": {
   "codemirror_mode": {
    "name": "ipython",
    "version": 3
   },
   "file_extension": ".py",
   "mimetype": "text/x-python",
   "name": "python",
   "nbconvert_exporter": "python",
   "pygments_lexer": "ipython3",
   "version": "3.10.11"
  },
  "orig_nbformat": 4
 },
 "nbformat": 4,
 "nbformat_minor": 2
}
